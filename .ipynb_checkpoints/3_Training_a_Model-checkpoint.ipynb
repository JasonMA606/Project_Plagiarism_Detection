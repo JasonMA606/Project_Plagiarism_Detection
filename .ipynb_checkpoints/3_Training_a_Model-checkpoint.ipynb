{
 "cells": [
  {
   "cell_type": "markdown",
   "metadata": {},
   "source": [
    "# Plagiarism Detection Model\n",
    "\n",
    "Now that you've created training and test data, you are ready to define and train a model. Your goal in this notebook, will be to train a binary classification model that learns to label an answer file as either plagiarized or not, based on the features you provide the model.\n",
    "\n",
    "This task will be broken down into a few discrete steps:\n",
    "\n",
    "* Upload your data to S3.\n",
    "* Define a binary classification model and a training script.\n",
    "* Train your model and deploy it.\n",
    "* Evaluate your deployed classifier and answer some questions about your approach.\n",
    "\n",
    "To complete this notebook, you'll have to complete all given exercises and answer all the questions in this notebook.\n",
    "> All your tasks will be clearly labeled **EXERCISE** and questions as **QUESTION**.\n",
    "\n",
    "It will be up to you to explore different classification models and decide on a model that gives you the best performance for this dataset.\n",
    "\n",
    "---"
   ]
  },
  {
   "cell_type": "markdown",
   "metadata": {},
   "source": [
    "## Load Data to S3\n",
    "\n",
    "In the last notebook, you should have created two files: a `training.csv` and `test.csv` file with the features and class labels for the given corpus of plagiarized/non-plagiarized text data. \n",
    "\n",
    ">The below cells load in some AWS SageMaker libraries and creates a default bucket. After creating this bucket, you can upload your locally stored data to S3.\n",
    "\n",
    "Save your train and test `.csv` feature files, locally. To do this you can run the second notebook \"2_Plagiarism_Feature_Engineering\" in SageMaker or you can manually upload your files to this notebook using the upload icon in Jupyter Lab. Then you can upload local files to S3 by using `sagemaker_session.upload_data` and pointing directly to where the training data is saved."
   ]
  },
  {
   "cell_type": "code",
   "execution_count": 1,
   "metadata": {},
   "outputs": [],
   "source": [
    "import pandas as pd\n",
    "import boto3\n",
    "import sagemaker"
   ]
  },
  {
   "cell_type": "code",
   "execution_count": 2,
   "metadata": {},
   "outputs": [],
   "source": [
    "\"\"\"\n",
    "DON'T MODIFY ANYTHING IN THIS CELL THAT IS BELOW THIS LINE\n",
    "\"\"\"\n",
    "# session and role\n",
    "sagemaker_session = sagemaker.Session()\n",
    "role = sagemaker.get_execution_role()\n",
    "\n",
    "# create an S3 bucket\n",
    "bucket = sagemaker_session.default_bucket()"
   ]
  },
  {
   "cell_type": "markdown",
   "metadata": {},
   "source": [
    "## EXERCISE: Upload your training data to S3\n",
    "\n",
    "Specify the `data_dir` where you've saved your `train.csv` file. Decide on a descriptive `prefix` that defines where your data will be uploaded in the default S3 bucket. Finally, create a pointer to your training data by calling `sagemaker_session.upload_data` and passing in the required parameters. It may help to look at the [Session documentation](https://sagemaker.readthedocs.io/en/stable/session.html#sagemaker.session.Session.upload_data) or previous SageMaker code examples.\n",
    "\n",
    "You are expected to upload your entire directory. Later, the training script will only access the `train.csv` file."
   ]
  },
  {
   "cell_type": "code",
   "execution_count": 3,
   "metadata": {},
   "outputs": [],
   "source": [
    "# should be the name of directory you created to save your features data\n",
    "data_dir = 'plagiarism_data'\n",
    "\n",
    "# set prefix, a descriptive name for a directory  \n",
    "prefix = 'plagiarism_analysis'\n",
    "\n",
    "# upload all data to S3\n",
    "data_s3 = sagemaker_session.upload_data(path=data_dir, bucket=bucket, key_prefix = prefix)"
   ]
  },
  {
   "cell_type": "code",
   "execution_count": 4,
   "metadata": {},
   "outputs": [
    {
     "data": {
      "text/plain": [
       "'s3://sagemaker-us-east-1-980497197870/plagiarism_analysis'"
      ]
     },
     "execution_count": 4,
     "metadata": {},
     "output_type": "execute_result"
    }
   ],
   "source": [
    "data_s3"
   ]
  },
  {
   "cell_type": "markdown",
   "metadata": {},
   "source": [
    "### Test cell\n",
    "\n",
    "Test that your data has been successfully uploaded. The below cell prints out the items in your S3 bucket and will throw an error if it is empty. You should see the contents of your `data_dir` and perhaps some checkpoints. If you see any other files listed, then you may have some old model files that you can delete via the S3 console (though, additional files shouldn't affect the performance of model developed in this notebook)."
   ]
  },
  {
   "cell_type": "code",
   "execution_count": 5,
   "metadata": {},
   "outputs": [
    {
     "name": "stdout",
     "output_type": "stream",
     "text": [
      "counties/kmeans-2020-08-05-03-06-32-814/output/model.tar.gz\n",
      "counties/kmeans-2020-08-05-19-42-17-609/output/model.tar.gz\n",
      "counties/pca-2020-08-03-21-33-27-579/output/model.tar.gz\n",
      "counties/pca-2020-08-05-02-18-45-709/output/model.tar.gz\n",
      "counties/pca-2020-08-05-16-00-42-002/output/model.tar.gz\n",
      "energy_consumption/output/energy-08-14-20-01-2020-08-14-23-24-51-796/output/model.tar.gz\n",
      "energy_consumption/test/test.json\n",
      "energy_consumption/train/train.json\n",
      "fraud/linear-learner-2020-08-07-19-19-53-391/output/model.tar.gz\n",
      "fraud/linear-learner-2020-08-07-19-51-40-003/output/model.tar.gz\n",
      "fraud/linear-learner-2020-08-07-20-15-50-554/output/model.tar.gz\n",
      "fraud/linear-learner-2020-08-07-20-35-34-354/output/model.tar.gz\n",
      "fraud/linear-learner-2020-08-07-21-00-56-729/output/model.tar.gz\n",
      "plagiarism_analysis/test.csv\n",
      "plagiarism_analysis/train.csv\n",
      "sagemaker-pytorch-2020-07-26-12-56-39-969/debug-output/training_job_end.ts\n",
      "sagemaker-pytorch-2020-07-26-12-56-39-969/output/model.tar.gz\n",
      "sagemaker-pytorch-2020-07-26-12-56-39-969/source/sourcedir.tar.gz\n",
      "sagemaker-pytorch-2020-07-26-15-57-57-603/debug-output/training_job_end.ts\n",
      "sagemaker-pytorch-2020-07-26-15-57-57-603/output/model.tar.gz\n",
      "sagemaker-pytorch-2020-07-26-15-57-57-603/source/sourcedir.tar.gz\n",
      "sagemaker-pytorch-2020-07-26-16-46-42-718/debug-output/training_job_end.ts\n",
      "sagemaker-pytorch-2020-07-26-16-46-42-718/output/model.tar.gz\n",
      "sagemaker-pytorch-2020-07-26-16-46-42-718/source/sourcedir.tar.gz\n",
      "sagemaker-pytorch-2020-07-26-17-13-57-060/debug-output/training_job_end.ts\n",
      "sagemaker-pytorch-2020-07-26-17-13-57-060/output/model.tar.gz\n",
      "sagemaker-pytorch-2020-07-26-17-13-57-060/source/sourcedir.tar.gz\n",
      "sagemaker-pytorch-2020-07-27-03-18-17-770/debug-output/training_job_end.ts\n",
      "sagemaker-pytorch-2020-07-27-03-18-17-770/output/model.tar.gz\n",
      "sagemaker-pytorch-2020-07-27-03-18-17-770/source/sourcedir.tar.gz\n",
      "sagemaker-pytorch-2020-07-27-03-25-26-292/sourcedir.tar.gz\n",
      "sagemaker-pytorch-2020-07-27-03-40-06-987/sourcedir.tar.gz\n",
      "sagemaker-pytorch-2020-07-27-03-50-10-718/sourcedir.tar.gz\n",
      "sagemaker-pytorch-2020-07-27-04-13-27-827/debug-output/training_job_end.ts\n",
      "sagemaker-pytorch-2020-07-27-04-13-27-827/output/model.tar.gz\n",
      "sagemaker-pytorch-2020-07-27-04-13-27-827/source/sourcedir.tar.gz\n",
      "sagemaker-pytorch-2020-07-27-04-31-35-567/sourcedir.tar.gz\n",
      "sagemaker-pytorch-2020-07-27-05-00-04-303/sourcedir.tar.gz\n",
      "sagemaker-pytorch-2020-07-27-21-46-05-222/sourcedir.tar.gz\n",
      "sagemaker-pytorch-2020-07-27-22-37-50-127/sourcedir.tar.gz\n",
      "sagemaker-pytorch-2020-07-27-22-45-42-366/sourcedir.tar.gz\n",
      "sagemaker-pytorch-2020-07-27-23-04-42-491/debug-output/training_job_end.ts\n",
      "sagemaker-pytorch-2020-07-27-23-04-42-491/output/model.tar.gz\n",
      "sagemaker-pytorch-2020-07-27-23-04-42-491/source/sourcedir.tar.gz\n",
      "sagemaker-pytorch-2020-07-27-23-17-50-671/debug-output/training_job_end.ts\n",
      "sagemaker-pytorch-2020-07-27-23-17-50-671/output/model.tar.gz\n",
      "sagemaker-pytorch-2020-07-27-23-17-50-671/source/sourcedir.tar.gz\n",
      "sagemaker-pytorch-2020-07-28-00-04-07-362/sourcedir.tar.gz\n",
      "sagemaker-pytorch-2020-07-28-00-18-09-225/sourcedir.tar.gz\n",
      "sagemaker-pytorch-2020-07-28-00-22-06-812/sourcedir.tar.gz\n",
      "sagemaker-pytorch-2020-07-28-00-42-31-145/sourcedir.tar.gz\n",
      "sagemaker-pytorch-2020-07-28-00-57-38-599/sourcedir.tar.gz\n",
      "sagemaker-pytorch-2020-07-28-01-09-18-852/sourcedir.tar.gz\n",
      "sagemaker-pytorch-2020-07-28-01-32-03-967/sourcedir.tar.gz\n",
      "sagemaker-pytorch-2020-07-28-03-24-35-252/debug-output/training_job_end.ts\n",
      "sagemaker-pytorch-2020-07-28-03-24-35-252/output/model.tar.gz\n",
      "sagemaker-pytorch-2020-07-28-03-24-35-252/source/sourcedir.tar.gz\n",
      "sagemaker-pytorch-2020-07-28-03-44-19-495/sourcedir.tar.gz\n",
      "sagemaker-pytorch-2020-07-28-04-18-31-982/sourcedir.tar.gz\n",
      "sagemaker-pytorch-2020-07-28-04-33-10-104/sourcedir.tar.gz\n",
      "sagemaker-pytorch-2020-07-28-05-17-33-809/sourcedir.tar.gz\n",
      "sagemaker-pytorch-2020-08-09-01-19-43-881/source/sourcedir.tar.gz\n",
      "sagemaker-pytorch-2020-08-09-01-21-11-719/source/sourcedir.tar.gz\n",
      "sagemaker-pytorch-2020-08-09-01-23-40-095/source/sourcedir.tar.gz\n",
      "sagemaker-pytorch-2020-08-09-01-28-24-142/source/sourcedir.tar.gz\n",
      "sagemaker-pytorch-2020-08-09-01-38-28-995/source/sourcedir.tar.gz\n",
      "sagemaker-pytorch-2020-08-09-01-43-58-183/source/sourcedir.tar.gz\n",
      "sagemaker-pytorch-2020-08-09-01-49-16-692/source/sourcedir.tar.gz\n",
      "sagemaker-pytorch-2020-08-09-01-56-28-533/source/sourcedir.tar.gz\n",
      "sagemaker-pytorch-2020-08-09-02-01-08-136/source/sourcedir.tar.gz\n",
      "sagemaker-pytorch-2020-08-09-02-11-31-651/sourcedir.tar.gz\n",
      "sagemaker-pytorch-2020-08-20-04-36-29-734/source/sourcedir.tar.gz\n",
      "sagemaker-pytorch-2020-08-20-04-42-01-855/source/sourcedir.tar.gz\n",
      "sagemaker-record-sets/KMeans-2020-08-05-03-06-13-502/.amazon.manifest\n",
      "sagemaker-record-sets/KMeans-2020-08-05-03-06-13-502/matrix_0.pbr\n",
      "sagemaker-record-sets/KMeans-2020-08-05-18-36-29-872/.amazon.manifest\n",
      "sagemaker-record-sets/KMeans-2020-08-05-18-36-29-872/matrix_0.pbr\n",
      "sagemaker-record-sets/LinearLearner-2020-08-07-19-05-45-852/.amazon.manifest\n",
      "sagemaker-record-sets/LinearLearner-2020-08-07-19-05-45-852/matrix_0.pbr\n",
      "sagemaker-record-sets/LinearLearner-2020-08-07-19-14-09-799/.amazon.manifest\n",
      "sagemaker-record-sets/LinearLearner-2020-08-07-19-14-09-799/matrix_0.pbr\n",
      "sagemaker-record-sets/LinearLearner-2020-08-07-19-19-46-470/.amazon.manifest\n",
      "sagemaker-record-sets/LinearLearner-2020-08-07-19-19-46-470/matrix_0.pbr\n",
      "sagemaker-record-sets/PCA-2020-08-03-21-33-22-590/.amazon.manifest\n",
      "sagemaker-record-sets/PCA-2020-08-03-21-33-22-590/matrix_0.pbr\n",
      "sagemaker-record-sets/PCA-2020-08-05-02-18-43-188/.amazon.manifest\n",
      "sagemaker-record-sets/PCA-2020-08-05-02-18-43-188/matrix_0.pbr\n",
      "sagemaker-record-sets/PCA-2020-08-05-16-00-40-148/.amazon.manifest\n",
      "sagemaker-record-sets/PCA-2020-08-05-16-00-40-148/matrix_0.pbr\n",
      "sagemaker-scikit-learn-2020-08-19-06-03-11-682/source/sourcedir.tar.gz\n",
      "sagemaker-scikit-learn-2020-08-19-06-09-41-439/source/sourcedir.tar.gz\n",
      "sagemaker-scikit-learn-2020-08-19-06-16-01-601/source/sourcedir.tar.gz\n",
      "sagemaker-scikit-learn-2020-08-19-06-23-38-358/source/sourcedir.tar.gz\n",
      "sagemaker-scikit-learn-2020-08-19-06-27-42-741/source/sourcedir.tar.gz\n",
      "sagemaker-scikit-learn-2020-08-19-06-35-49-616/source/sourcedir.tar.gz\n",
      "sagemaker-scikit-learn-2020-08-19-06-43-31-360/source/sourcedir.tar.gz\n",
      "sagemaker-scikit-learn-2020-08-19-06-48-10-886/source/sourcedir.tar.gz\n",
      "sagemaker-scikit-learn-2020-08-19-06-53-37-080/source/sourcedir.tar.gz\n",
      "sagemaker-scikit-learn-2020-08-19-06-58-13-928/source/sourcedir.tar.gz\n",
      "sagemaker-scikit-learn-2020-08-20-02-23-57-553/debug-output/training_job_end.ts\n",
      "sagemaker-scikit-learn-2020-08-20-02-23-57-553/output/model.tar.gz\n",
      "sagemaker-scikit-learn-2020-08-20-02-23-57-553/source/sourcedir.tar.gz\n",
      "sagemaker-scikit-learn-2020-08-20-03-33-34-885/debug-output/training_job_end.ts\n",
      "sagemaker-scikit-learn-2020-08-20-03-33-34-885/output/model.tar.gz\n",
      "sagemaker-scikit-learn-2020-08-20-03-33-34-885/source/sourcedir.tar.gz\n",
      "sagemaker/backup/test.csv\n",
      "sagemaker/moon-data/.ipynb_checkpoints/train-checkpoint.csv\n",
      "sagemaker/moon-data/sagemaker-pytorch-2020-08-09-01-43-58-183/output/model.tar.gz\n",
      "sagemaker/moon-data/sagemaker-pytorch-2020-08-09-01-49-16-692/output/model.tar.gz\n",
      "sagemaker/moon-data/sagemaker-pytorch-2020-08-09-01-56-28-533/output/model.tar.gz\n",
      "sagemaker/moon-data/sagemaker-pytorch-2020-08-09-02-01-08-136/debug-output/training_job_end.ts\n",
      "sagemaker/moon-data/sagemaker-pytorch-2020-08-09-02-01-08-136/output/model.tar.gz\n",
      "sagemaker/moon-data/train.csv\n",
      "sagemaker/sentiment_rnn/train.csv\n",
      "sagemaker/sentiment_rnn/word_dict.pkl\n",
      "Test passed!\n"
     ]
    }
   ],
   "source": [
    "\"\"\"\n",
    "DON'T MODIFY ANYTHING IN THIS CELL THAT IS BELOW THIS LINE\n",
    "\"\"\"\n",
    "# confirm that data is in S3 bucket\n",
    "empty_check = []\n",
    "for obj in boto3.resource('s3').Bucket(bucket).objects.all():\n",
    "    empty_check.append(obj.key)\n",
    "    print(obj.key)\n",
    "\n",
    "assert len(empty_check) !=0, 'S3 bucket is empty.'\n",
    "print('Test passed!')"
   ]
  },
  {
   "cell_type": "markdown",
   "metadata": {},
   "source": [
    "---\n",
    "\n",
    "# Modeling\n",
    "\n",
    "Now that you've uploaded your training data, it's time to define and train a model!\n",
    "\n",
    "The type of model you create is up to you. For a binary classification task, you can choose to go one of three routes:\n",
    "* Use a built-in classification algorithm, like LinearLearner.\n",
    "* Define a custom Scikit-learn classifier, a comparison of models can be found [here](https://scikit-learn.org/stable/auto_examples/classification/plot_classifier_comparison.html).\n",
    "* Define a custom PyTorch neural network classifier. \n",
    "\n",
    "It will be up to you to test out a variety of models and choose the best one. Your project will be graded on the accuracy of your final model. \n",
    " \n",
    "---\n",
    "\n",
    "## EXERCISE: Complete a training script \n",
    "\n",
    "To implement a custom classifier, you'll need to complete a `train.py` script. You've been given the folders `source_sklearn` and `source_pytorch` which hold starting code for a custom Scikit-learn model and a PyTorch model, respectively. Each directory has a `train.py` training script. To complete this project **you only need to complete one of these scripts**; the script that is responsible for training your final model.\n",
    "\n",
    "A typical training script:\n",
    "* Loads training data from a specified directory\n",
    "* Parses any training & model hyperparameters (ex. nodes in a neural network, training epochs, etc.)\n",
    "* Instantiates a model of your design, with any specified hyperparams\n",
    "* Trains that model \n",
    "* Finally, saves the model so that it can be hosted/deployed, later\n",
    "\n",
    "### Defining and training a model\n",
    "Much of the training script code is provided for you. Almost all of your work will be done in the `if __name__ == '__main__':` section. To complete a `train.py` file, you will:\n",
    "1. Import any extra libraries you need\n",
    "2. Define any additional model training hyperparameters using `parser.add_argument`\n",
    "2. Define a model in the `if __name__ == '__main__':` section\n",
    "3. Train the model in that same section\n",
    "\n",
    "Below, you can use `!pygmentize` to display an existing `train.py` file. Read through the code; all of your tasks are marked with `TODO` comments. \n",
    "\n",
    "**Note: If you choose to create a custom PyTorch model, you will be responsible for defining the model in the `model.py` file,** and a `predict.py` file is provided. If you choose to use Scikit-learn, you only need a `train.py` file; you may import a classifier from the `sklearn` library."
   ]
  },
  {
   "cell_type": "code",
   "execution_count": 10,
   "metadata": {},
   "outputs": [
    {
     "name": "stdout",
     "output_type": "stream",
     "text": [
      "\u001b[34mfrom\u001b[39;49;00m \u001b[04m\u001b[36m__future__\u001b[39;49;00m \u001b[34mimport\u001b[39;49;00m print_function\r\n",
      "\r\n",
      "\u001b[34mimport\u001b[39;49;00m \u001b[04m\u001b[36margparse\u001b[39;49;00m\r\n",
      "\u001b[34mimport\u001b[39;49;00m \u001b[04m\u001b[36mos\u001b[39;49;00m\r\n",
      "\u001b[34mimport\u001b[39;49;00m \u001b[04m\u001b[36mpandas\u001b[39;49;00m \u001b[34mas\u001b[39;49;00m \u001b[04m\u001b[36mpd\u001b[39;49;00m\r\n",
      "\r\n",
      "\u001b[34mfrom\u001b[39;49;00m \u001b[04m\u001b[36msklearn\u001b[39;49;00m\u001b[04m\u001b[36m.\u001b[39;49;00m\u001b[04m\u001b[36mneighbors\u001b[39;49;00m \u001b[34mimport\u001b[39;49;00m KNeighborsClassifier\r\n",
      "\u001b[34mfrom\u001b[39;49;00m \u001b[04m\u001b[36msklearn\u001b[39;49;00m\u001b[04m\u001b[36m.\u001b[39;49;00m\u001b[04m\u001b[36mexternals\u001b[39;49;00m \u001b[34mimport\u001b[39;49;00m joblib\r\n",
      "\r\n",
      "\u001b[37m## TODO: Import any additional libraries you need to define a model\u001b[39;49;00m\r\n",
      "\r\n",
      "\r\n",
      "\u001b[37m# Provided model load function\u001b[39;49;00m\r\n",
      "\u001b[34mdef\u001b[39;49;00m \u001b[32mmodel_fn\u001b[39;49;00m(model_dir):\r\n",
      "    \u001b[33m\"\"\"Load model from the model_dir. This is the same model that is saved\u001b[39;49;00m\r\n",
      "\u001b[33m    in the main if statement.\u001b[39;49;00m\r\n",
      "\u001b[33m    \"\"\"\u001b[39;49;00m\r\n",
      "    \u001b[36mprint\u001b[39;49;00m(\u001b[33m\"\u001b[39;49;00m\u001b[33mLoading model.\u001b[39;49;00m\u001b[33m\"\u001b[39;49;00m)\r\n",
      "    \r\n",
      "    \u001b[37m# load using joblib\u001b[39;49;00m\r\n",
      "    model = joblib.load(os.path.join(model_dir, \u001b[33m\"\u001b[39;49;00m\u001b[33mmodel.joblib\u001b[39;49;00m\u001b[33m\"\u001b[39;49;00m))\r\n",
      "    \u001b[36mprint\u001b[39;49;00m(\u001b[33m\"\u001b[39;49;00m\u001b[33mDone loading model.\u001b[39;49;00m\u001b[33m\"\u001b[39;49;00m)\r\n",
      "    \r\n",
      "    \u001b[34mreturn\u001b[39;49;00m model\r\n",
      "\r\n",
      "\r\n",
      "\u001b[37m## TODO: Complete the main code\u001b[39;49;00m\r\n",
      "\u001b[34mif\u001b[39;49;00m \u001b[31m__name__\u001b[39;49;00m == \u001b[33m'\u001b[39;49;00m\u001b[33m__main__\u001b[39;49;00m\u001b[33m'\u001b[39;49;00m:\r\n",
      "    \r\n",
      "    \u001b[37m# All of the model parameters and training parameters are sent as arguments\u001b[39;49;00m\r\n",
      "    \u001b[37m# when this script is executed, during a training job\u001b[39;49;00m\r\n",
      "    \r\n",
      "    \u001b[37m# Here we set up an argument parser to easily access the parameters\u001b[39;49;00m\r\n",
      "    parser = argparse.ArgumentParser()\r\n",
      "\r\n",
      "    \u001b[37m# SageMaker parameters, like the directories for training data and saving models; set automatically\u001b[39;49;00m\r\n",
      "    \u001b[37m# Do not need to change\u001b[39;49;00m\r\n",
      "    parser.add_argument(\u001b[33m'\u001b[39;49;00m\u001b[33m--output-data-dir\u001b[39;49;00m\u001b[33m'\u001b[39;49;00m, \u001b[36mtype\u001b[39;49;00m=\u001b[36mstr\u001b[39;49;00m, default=os.environ[\u001b[33m'\u001b[39;49;00m\u001b[33mSM_OUTPUT_DATA_DIR\u001b[39;49;00m\u001b[33m'\u001b[39;49;00m])\r\n",
      "    parser.add_argument(\u001b[33m'\u001b[39;49;00m\u001b[33m--model-dir\u001b[39;49;00m\u001b[33m'\u001b[39;49;00m, \u001b[36mtype\u001b[39;49;00m=\u001b[36mstr\u001b[39;49;00m, default=os.environ[\u001b[33m'\u001b[39;49;00m\u001b[33mSM_MODEL_DIR\u001b[39;49;00m\u001b[33m'\u001b[39;49;00m])\r\n",
      "    parser.add_argument(\u001b[33m'\u001b[39;49;00m\u001b[33m--data-dir\u001b[39;49;00m\u001b[33m'\u001b[39;49;00m, \u001b[36mtype\u001b[39;49;00m=\u001b[36mstr\u001b[39;49;00m, default=os.environ[\u001b[33m'\u001b[39;49;00m\u001b[33mSM_CHANNEL_TRAIN\u001b[39;49;00m\u001b[33m'\u001b[39;49;00m])\r\n",
      "    \r\n",
      "    \u001b[37m## TODO: Add any additional arguments that you will need to pass into your model\u001b[39;49;00m\r\n",
      "    parser.add_argument(\u001b[33m'\u001b[39;49;00m\u001b[33m--n-neighbors\u001b[39;49;00m\u001b[33m'\u001b[39;49;00m, \u001b[36mtype\u001b[39;49;00m=\u001b[36mint\u001b[39;49;00m, default=\u001b[34m5\u001b[39;49;00m)\r\n",
      "    \r\n",
      "    \u001b[37m# args holds all passed-in arguments\u001b[39;49;00m\r\n",
      "    args = parser.parse_args()\r\n",
      "\r\n",
      "    \u001b[37m# Read in csv training file\u001b[39;49;00m\r\n",
      "    training_dir = args.data_dir\r\n",
      "    train_data = pd.read_csv(os.path.join(training_dir, \u001b[33m\"\u001b[39;49;00m\u001b[33mtrain.csv\u001b[39;49;00m\u001b[33m\"\u001b[39;49;00m), header=\u001b[34mNone\u001b[39;49;00m, names=\u001b[34mNone\u001b[39;49;00m)\r\n",
      "\r\n",
      "    \u001b[37m# Labels are in the first column\u001b[39;49;00m\r\n",
      "    train_y = train_data.iloc[:,\u001b[34m0\u001b[39;49;00m]\r\n",
      "    train_x = train_data.iloc[:,\u001b[34m1\u001b[39;49;00m:]\r\n",
      "    \r\n",
      "    \r\n",
      "    \u001b[37m## --- Your code here --- ##\u001b[39;49;00m\r\n",
      "    \r\n",
      "\r\n",
      "    \u001b[37m## TODO: Define a model \u001b[39;49;00m\r\n",
      "    model = KNeighborsClassifier(args.n_neighbors)\r\n",
      "    \r\n",
      "    \u001b[37m## TODO: Train the model\u001b[39;49;00m\r\n",
      "    train_X = train_data[\u001b[34m1\u001b[39;49;00m:]\r\n",
      "    train_y = train_data[\u001b[34m0\u001b[39;49;00m]\r\n",
      "    model.fit(train_X, train_y)\r\n",
      "    \r\n",
      "    \u001b[37m## --- End of your code  --- ##\u001b[39;49;00m\r\n",
      "    \r\n",
      "\r\n",
      "    \u001b[37m# Save the trained model\u001b[39;49;00m\r\n",
      "    joblib.dump(model, os.path.join(args.model_dir, \u001b[33m\"\u001b[39;49;00m\u001b[33mmodel.joblib\u001b[39;49;00m\u001b[33m\"\u001b[39;49;00m))\r\n"
     ]
    }
   ],
   "source": [
    "# directory can be changed to: source_sklearn or source_pytorch\n",
    "!pygmentize source_sklearn/train.py"
   ]
  },
  {
   "cell_type": "markdown",
   "metadata": {},
   "source": [
    "### Provided code\n",
    "\n",
    "If you read the code above, you can see that the starter code includes a few things:\n",
    "* Model loading (`model_fn`) and saving code\n",
    "* Getting SageMaker's default hyperparameters\n",
    "* Loading the training data by name, `train.csv` and extracting the features and labels, `train_x`, and `train_y`\n",
    "\n",
    "If you'd like to read more about model saving with [joblib for sklearn](https://scikit-learn.org/stable/modules/model_persistence.html) or with [torch.save](https://pytorch.org/tutorials/beginner/saving_loading_models.html), click on the provided links."
   ]
  },
  {
   "cell_type": "markdown",
   "metadata": {},
   "source": [
    "---\n",
    "# Create an Estimator\n",
    "\n",
    "When a custom model is constructed in SageMaker, an entry point must be specified. This is the Python file which will be executed when the model is trained; the `train.py` function you specified above. To run a custom training script in SageMaker, construct an estimator, and fill in the appropriate constructor arguments:\n",
    "\n",
    "* **entry_point**: The path to the Python script SageMaker runs for training and prediction.\n",
    "* **source_dir**: The path to the training script directory `source_sklearn` OR `source_pytorch`.\n",
    "* **entry_point**: The path to the Python script SageMaker runs for training and prediction.\n",
    "* **source_dir**: The path to the training script directory `train_sklearn` OR `train_pytorch`.\n",
    "* **entry_point**: The path to the Python script SageMaker runs for training.\n",
    "* **source_dir**: The path to the training script directory `train_sklearn` OR `train_pytorch`.\n",
    "* **role**: Role ARN, which was specified, above.\n",
    "* **train_instance_count**: The number of training instances (should be left at 1).\n",
    "* **train_instance_type**: The type of SageMaker instance for training. Note: Because Scikit-learn does not natively support GPU training, Sagemaker Scikit-learn does not currently support training on GPU instance types.\n",
    "* **sagemaker_session**: The session used to train on Sagemaker.\n",
    "* **hyperparameters** (optional): A dictionary `{'name':value, ..}` passed to the train function as hyperparameters.\n",
    "\n",
    "Note: For a PyTorch model, there is another optional argument **framework_version**, which you can set to the latest version of PyTorch, `1.0`.\n",
    "\n",
    "## EXERCISE: Define a Scikit-learn or PyTorch estimator\n",
    "\n",
    "To import your desired estimator, use one of the following lines:\n",
    "```\n",
    "from sagemaker.sklearn.estimator import SKLearn\n",
    "```\n",
    "```\n",
    "from sagemaker.pytorch import PyTorch\n",
    "```"
   ]
  },
  {
   "cell_type": "code",
   "execution_count": 41,
   "metadata": {},
   "outputs": [
    {
     "name": "stderr",
     "output_type": "stream",
     "text": [
      "This is not the latest supported version. If you would like to use version 0.23-1, please add framework_version=0.23-1 to your constructor.\n"
     ]
    }
   ],
   "source": [
    "# your import and estimator code, here\n",
    "## I choose to use 0.20.0 is because the lastest version of scikit_learn deprecate the 'joblib' funtion \n",
    "# NNeighborsClassifer n = 5\n",
    "from sagemaker.sklearn.estimator import SKLearn\n",
    "\n",
    "model = SKLearn(entry_point = 'train.py',\n",
    "                source_dir = 'source_sklearn',\n",
    "                role = role,\n",
    "                train_instance_count = 1,\n",
    "                train_instance_type = 'ml.c4.xlarge',\n",
    "                sagemaker_session = sagemaker_session,\n",
    "                framework_version = '0.20.0')"
   ]
  },
  {
   "cell_type": "code",
   "execution_count": 49,
   "metadata": {},
   "outputs": [
    {
     "name": "stderr",
     "output_type": "stream",
     "text": [
      "This is not the latest supported version. If you would like to use version 0.23-1, please add framework_version=0.23-1 to your constructor.\n"
     ]
    }
   ],
   "source": [
    "# NNeighborsClassifer n = 3\n",
    "model = SKLearn(entry_point = 'train.py',\n",
    "                source_dir = 'source_sklearn',\n",
    "                role = role,\n",
    "                train_instance_count = 1,\n",
    "                train_instance_type = 'ml.c4.xlarge',\n",
    "                sagemaker_session = sagemaker_session,\n",
    "                framework_version = '0.20.0',\n",
    "                hyperparameters = {'n-neighbors': 3})"
   ]
  },
  {
   "cell_type": "code",
   "execution_count": 95,
   "metadata": {},
   "outputs": [],
   "source": [
    "# Pytorch\n",
    "from sagemaker.pytorch import PyTorch\n",
    "model = PyTorch(entry_point = 'train.py',\n",
    "                source_dir = 'source_pytorch',\n",
    "                role = role,\n",
    "                train_instance_count = 1,\n",
    "                train_instance_type = 'ml.p2.xlarge',\n",
    "                sagemaker_session = sagemaker_session,\n",
    "                framework_version = '1.5.0',\n",
    "                hyperparameters = {'epochs': 20,\n",
    "                                   'input_features': 3,\n",
    "                                   'hidden_dim': 30, \n",
    "                                   'output_dim': 1})"
   ]
  },
  {
   "cell_type": "markdown",
   "metadata": {},
   "source": [
    "## EXERCISE: Train the estimator\n",
    "\n",
    "Train your estimator on the training data stored in S3. This should create a training job that you can monitor in your SageMaker console."
   ]
  },
  {
   "cell_type": "code",
   "execution_count": 50,
   "metadata": {},
   "outputs": [
    {
     "name": "stderr",
     "output_type": "stream",
     "text": [
      "'s3_input' class will be renamed to 'TrainingInput' in SageMaker Python SDK v2.\n"
     ]
    },
    {
     "name": "stdout",
     "output_type": "stream",
     "text": [
      "2020-08-20 03:33:35 Starting - Starting the training job...\n",
      "2020-08-20 03:33:38 Starting - Launching requested ML instances.........\n",
      "2020-08-20 03:35:20 Starting - Preparing the instances for training......\n",
      "2020-08-20 03:36:20 Downloading - Downloading input data...\n",
      "2020-08-20 03:36:50 Training - Downloading the training image..\u001b[34m2020-08-20 03:37:14,246 sagemaker-containers INFO     Imported framework sagemaker_sklearn_container.training\u001b[0m\n",
      "\u001b[34m2020-08-20 03:37:14,248 sagemaker-containers INFO     No GPUs detected (normal if no gpus installed)\u001b[0m\n",
      "\u001b[34m2020-08-20 03:37:14,259 sagemaker_sklearn_container.training INFO     Invoking user training script.\u001b[0m\n",
      "\u001b[34m2020-08-20 03:37:14,537 sagemaker-containers INFO     Module train does not provide a setup.py. \u001b[0m\n",
      "\u001b[34mGenerating setup.py\u001b[0m\n",
      "\u001b[34m2020-08-20 03:37:14,538 sagemaker-containers INFO     Generating setup.cfg\u001b[0m\n",
      "\u001b[34m2020-08-20 03:37:14,538 sagemaker-containers INFO     Generating MANIFEST.in\u001b[0m\n",
      "\u001b[34m2020-08-20 03:37:14,538 sagemaker-containers INFO     Installing module with the following command:\u001b[0m\n",
      "\u001b[34m/miniconda3/bin/python -m pip install . \u001b[0m\n",
      "\u001b[34mProcessing /opt/ml/code\u001b[0m\n",
      "\u001b[34mBuilding wheels for collected packages: train\n",
      "  Building wheel for train (setup.py): started\n",
      "  Building wheel for train (setup.py): finished with status 'done'\n",
      "  Created wheel for train: filename=train-1.0.0-py2.py3-none-any.whl size=5873 sha256=23322f2e43ed0f48290f090ec7c01a75fcac65ffa689a62890ac1ba85c589712\n",
      "  Stored in directory: /tmp/pip-ephem-wheel-cache-_j6p73r6/wheels/35/24/16/37574d11bf9bde50616c67372a334f94fa8356bc7164af8ca3\u001b[0m\n",
      "\u001b[34mSuccessfully built train\u001b[0m\n",
      "\u001b[34mInstalling collected packages: train\u001b[0m\n",
      "\u001b[34mSuccessfully installed train-1.0.0\u001b[0m\n",
      "\u001b[34m2020-08-20 03:37:15,943 sagemaker-containers INFO     No GPUs detected (normal if no gpus installed)\u001b[0m\n",
      "\u001b[34m2020-08-20 03:37:15,954 sagemaker-containers INFO     Invoking user script\n",
      "\u001b[0m\n",
      "\u001b[34mTraining Env:\n",
      "\u001b[0m\n",
      "\u001b[34m{\n",
      "    \"additional_framework_parameters\": {},\n",
      "    \"channel_input_dirs\": {\n",
      "        \"train\": \"/opt/ml/input/data/train\"\n",
      "    },\n",
      "    \"current_host\": \"algo-1\",\n",
      "    \"framework_module\": \"sagemaker_sklearn_container.training:main\",\n",
      "    \"hosts\": [\n",
      "        \"algo-1\"\n",
      "    ],\n",
      "    \"hyperparameters\": {\n",
      "        \"n-neighbors\": 3\n",
      "    },\n",
      "    \"input_config_dir\": \"/opt/ml/input/config\",\n",
      "    \"input_data_config\": {\n",
      "        \"train\": {\n",
      "            \"TrainingInputMode\": \"File\",\n",
      "            \"S3DistributionType\": \"FullyReplicated\",\n",
      "            \"RecordWrapperType\": \"None\"\n",
      "        }\n",
      "    },\n",
      "    \"input_dir\": \"/opt/ml/input\",\n",
      "    \"is_master\": true,\n",
      "    \"job_name\": \"sagemaker-scikit-learn-2020-08-20-03-33-34-885\",\n",
      "    \"log_level\": 20,\n",
      "    \"master_hostname\": \"algo-1\",\n",
      "    \"model_dir\": \"/opt/ml/model\",\n",
      "    \"module_dir\": \"s3://sagemaker-us-east-1-980497197870/sagemaker-scikit-learn-2020-08-20-03-33-34-885/source/sourcedir.tar.gz\",\n",
      "    \"module_name\": \"train\",\n",
      "    \"network_interface_name\": \"eth0\",\n",
      "    \"num_cpus\": 4,\n",
      "    \"num_gpus\": 0,\n",
      "    \"output_data_dir\": \"/opt/ml/output/data\",\n",
      "    \"output_dir\": \"/opt/ml/output\",\n",
      "    \"output_intermediate_dir\": \"/opt/ml/output/intermediate\",\n",
      "    \"resource_config\": {\n",
      "        \"current_host\": \"algo-1\",\n",
      "        \"hosts\": [\n",
      "            \"algo-1\"\n",
      "        ],\n",
      "        \"network_interface_name\": \"eth0\"\n",
      "    },\n",
      "    \"user_entry_point\": \"train.py\"\u001b[0m\n",
      "\u001b[34m}\n",
      "\u001b[0m\n",
      "\u001b[34mEnvironment variables:\n",
      "\u001b[0m\n",
      "\u001b[34mSM_HOSTS=[\"algo-1\"]\u001b[0m\n",
      "\u001b[34mSM_NETWORK_INTERFACE_NAME=eth0\u001b[0m\n",
      "\u001b[34mSM_HPS={\"n-neighbors\":3}\u001b[0m\n",
      "\u001b[34mSM_USER_ENTRY_POINT=train.py\u001b[0m\n",
      "\u001b[34mSM_FRAMEWORK_PARAMS={}\u001b[0m\n",
      "\u001b[34mSM_RESOURCE_CONFIG={\"current_host\":\"algo-1\",\"hosts\":[\"algo-1\"],\"network_interface_name\":\"eth0\"}\u001b[0m\n",
      "\u001b[34mSM_INPUT_DATA_CONFIG={\"train\":{\"RecordWrapperType\":\"None\",\"S3DistributionType\":\"FullyReplicated\",\"TrainingInputMode\":\"File\"}}\u001b[0m\n",
      "\u001b[34mSM_OUTPUT_DATA_DIR=/opt/ml/output/data\u001b[0m\n",
      "\u001b[34mSM_CHANNELS=[\"train\"]\u001b[0m\n",
      "\u001b[34mSM_CURRENT_HOST=algo-1\u001b[0m\n",
      "\u001b[34mSM_MODULE_NAME=train\u001b[0m\n",
      "\u001b[34mSM_LOG_LEVEL=20\u001b[0m\n",
      "\u001b[34mSM_FRAMEWORK_MODULE=sagemaker_sklearn_container.training:main\u001b[0m\n",
      "\u001b[34mSM_INPUT_DIR=/opt/ml/input\u001b[0m\n",
      "\u001b[34mSM_INPUT_CONFIG_DIR=/opt/ml/input/config\u001b[0m\n",
      "\u001b[34mSM_OUTPUT_DIR=/opt/ml/output\u001b[0m\n",
      "\u001b[34mSM_NUM_CPUS=4\u001b[0m\n",
      "\u001b[34mSM_NUM_GPUS=0\u001b[0m\n",
      "\u001b[34mSM_MODEL_DIR=/opt/ml/model\u001b[0m\n",
      "\u001b[34mSM_MODULE_DIR=s3://sagemaker-us-east-1-980497197870/sagemaker-scikit-learn-2020-08-20-03-33-34-885/source/sourcedir.tar.gz\u001b[0m\n",
      "\u001b[34mSM_TRAINING_ENV={\"additional_framework_parameters\":{},\"channel_input_dirs\":{\"train\":\"/opt/ml/input/data/train\"},\"current_host\":\"algo-1\",\"framework_module\":\"sagemaker_sklearn_container.training:main\",\"hosts\":[\"algo-1\"],\"hyperparameters\":{\"n-neighbors\":3},\"input_config_dir\":\"/opt/ml/input/config\",\"input_data_config\":{\"train\":{\"RecordWrapperType\":\"None\",\"S3DistributionType\":\"FullyReplicated\",\"TrainingInputMode\":\"File\"}},\"input_dir\":\"/opt/ml/input\",\"is_master\":true,\"job_name\":\"sagemaker-scikit-learn-2020-08-20-03-33-34-885\",\"log_level\":20,\"master_hostname\":\"algo-1\",\"model_dir\":\"/opt/ml/model\",\"module_dir\":\"s3://sagemaker-us-east-1-980497197870/sagemaker-scikit-learn-2020-08-20-03-33-34-885/source/sourcedir.tar.gz\",\"module_name\":\"train\",\"network_interface_name\":\"eth0\",\"num_cpus\":4,\"num_gpus\":0,\"output_data_dir\":\"/opt/ml/output/data\",\"output_dir\":\"/opt/ml/output\",\"output_intermediate_dir\":\"/opt/ml/output/intermediate\",\"resource_config\":{\"current_host\":\"algo-1\",\"hosts\":[\"algo-1\"],\"network_interface_name\":\"eth0\"},\"user_entry_point\":\"train.py\"}\u001b[0m\n",
      "\u001b[34mSM_USER_ARGS=[\"--n-neighbors\",\"3\"]\u001b[0m\n",
      "\u001b[34mSM_OUTPUT_INTERMEDIATE_DIR=/opt/ml/output/intermediate\u001b[0m\n",
      "\u001b[34mSM_CHANNEL_TRAIN=/opt/ml/input/data/train\u001b[0m\n",
      "\u001b[34mSM_HP_N-NEIGHBORS=3\u001b[0m\n",
      "\u001b[34mPYTHONPATH=/miniconda3/bin:/miniconda3/lib/python37.zip:/miniconda3/lib/python3.7:/miniconda3/lib/python3.7/lib-dynload:/miniconda3/lib/python3.7/site-packages\n",
      "\u001b[0m\n",
      "\u001b[34mInvoking script with the following command:\n",
      "\u001b[0m\n",
      "\u001b[34m/miniconda3/bin/python -m train --n-neighbors 3\n",
      "\n",
      "\u001b[0m\n",
      "\u001b[34m/miniconda3/lib/python3.7/site-packages/sklearn/externals/joblib/externals/cloudpickle/cloudpickle.py:47: DeprecationWarning: the imp module is deprecated in favour of importlib; see the module's documentation for alternative uses\n",
      "  import imp\u001b[0m\n",
      "\u001b[34m2020-08-20 03:37:17,572 sagemaker-containers INFO     Reporting training SUCCESS\u001b[0m\n",
      "\n",
      "2020-08-20 03:37:26 Uploading - Uploading generated training model\n",
      "2020-08-20 03:37:26 Completed - Training job completed\n",
      "Training seconds: 66\n",
      "Billable seconds: 66\n",
      "CPU times: user 547 ms, sys: 12.4 ms, total: 559 ms\n",
      "Wall time: 4min 12s\n"
     ]
    }
   ],
   "source": [
    "%%time\n",
    "\n",
    "# Train your estimator on S3 training data\n",
    "model.fit({'train': data_s3})"
   ]
  },
  {
   "cell_type": "code",
   "execution_count": 97,
   "metadata": {},
   "outputs": [
    {
     "name": "stderr",
     "output_type": "stream",
     "text": [
      "'create_image_uri' will be deprecated in favor of 'ImageURIProvider' class in SageMaker Python SDK v2.\n",
      "'s3_input' class will be renamed to 'TrainingInput' in SageMaker Python SDK v2.\n",
      "'create_image_uri' will be deprecated in favor of 'ImageURIProvider' class in SageMaker Python SDK v2.\n"
     ]
    },
    {
     "name": "stdout",
     "output_type": "stream",
     "text": [
      "2020-08-21 02:22:55 Starting - Starting the training job...\n",
      "2020-08-21 02:22:57 Starting - Launching requested ML instances......\n",
      "2020-08-21 02:24:10 Starting - Preparing the instances for training............\n",
      "2020-08-21 02:26:01 Downloading - Downloading input data...\n",
      "2020-08-21 02:26:42 Training - Downloading the training image.........\n",
      "2020-08-21 02:28:22 Training - Training image download completed. Training in progress.\u001b[34mbash: cannot set terminal process group (-1): Inappropriate ioctl for device\u001b[0m\n",
      "\u001b[34mbash: no job control in this shell\u001b[0m\n",
      "\u001b[34m2020-08-21 02:28:22,813 sagemaker-containers INFO     Imported framework sagemaker_pytorch_container.training\u001b[0m\n",
      "\u001b[34m2020-08-21 02:28:22,839 sagemaker_pytorch_container.training INFO     Block until all host DNS lookups succeed.\u001b[0m\n",
      "\u001b[34m2020-08-21 02:28:22,843 sagemaker_pytorch_container.training INFO     Invoking user training script.\u001b[0m\n",
      "\u001b[34m2020-08-21 02:28:23,169 sagemaker-containers INFO     Module default_user_module_name does not provide a setup.py. \u001b[0m\n",
      "\u001b[34mGenerating setup.py\u001b[0m\n",
      "\u001b[34m2020-08-21 02:28:23,169 sagemaker-containers INFO     Generating setup.cfg\u001b[0m\n",
      "\u001b[34m2020-08-21 02:28:23,170 sagemaker-containers INFO     Generating MANIFEST.in\u001b[0m\n",
      "\u001b[34m2020-08-21 02:28:23,170 sagemaker-containers INFO     Installing module with the following command:\u001b[0m\n",
      "\u001b[34m/opt/conda/bin/python -m pip install . \u001b[0m\n",
      "\u001b[34mProcessing /tmp/tmpe1fdd_vx/module_dir\u001b[0m\n",
      "\u001b[34mBuilding wheels for collected packages: default-user-module-name\n",
      "  Building wheel for default-user-module-name (setup.py): started\u001b[0m\n",
      "\u001b[34m  Building wheel for default-user-module-name (setup.py): finished with status 'done'\n",
      "  Created wheel for default-user-module-name: filename=default_user_module_name-1.0.0-py2.py3-none-any.whl size=11602 sha256=fce8c8dcb0743d4d630fa68922fa9c7d66b9c77f628ee93e74a4e2d82bc78f3f\n",
      "  Stored in directory: /tmp/pip-ephem-wheel-cache-b3y0jhzz/wheels/30/3c/8b/6b849a262420b1ce5d8178efa5d5c480e28157f0b5d275cf13\u001b[0m\n",
      "\u001b[34mSuccessfully built default-user-module-name\u001b[0m\n",
      "\u001b[34mInstalling collected packages: default-user-module-name\u001b[0m\n",
      "\u001b[34mSuccessfully installed default-user-module-name-1.0.0\u001b[0m\n",
      "\u001b[34mWARNING: You are using pip version 20.1; however, version 20.2.2 is available.\u001b[0m\n",
      "\u001b[34mYou should consider upgrading via the '/opt/conda/bin/python -m pip install --upgrade pip' command.\u001b[0m\n",
      "\u001b[34m2020-08-21 02:28:25,765 sagemaker-containers INFO     Invoking user script\n",
      "\u001b[0m\n",
      "\u001b[34mTraining Env:\n",
      "\u001b[0m\n",
      "\u001b[34m{\n",
      "    \"additional_framework_parameters\": {},\n",
      "    \"channel_input_dirs\": {\n",
      "        \"train\": \"/opt/ml/input/data/train\"\n",
      "    },\n",
      "    \"current_host\": \"algo-1\",\n",
      "    \"framework_module\": \"sagemaker_pytorch_container.training:main\",\n",
      "    \"hosts\": [\n",
      "        \"algo-1\"\n",
      "    ],\n",
      "    \"hyperparameters\": {\n",
      "        \"hidden_dim\": 30,\n",
      "        \"input_features\": 3,\n",
      "        \"epochs\": 20,\n",
      "        \"output_dim\": 1\n",
      "    },\n",
      "    \"input_config_dir\": \"/opt/ml/input/config\",\n",
      "    \"input_data_config\": {\n",
      "        \"train\": {\n",
      "            \"TrainingInputMode\": \"File\",\n",
      "            \"S3DistributionType\": \"FullyReplicated\",\n",
      "            \"RecordWrapperType\": \"None\"\n",
      "        }\n",
      "    },\n",
      "    \"input_dir\": \"/opt/ml/input\",\n",
      "    \"is_master\": true,\n",
      "    \"job_name\": \"pytorch-training-2020-08-21-02-22-54-024\",\n",
      "    \"log_level\": 20,\n",
      "    \"master_hostname\": \"algo-1\",\n",
      "    \"model_dir\": \"/opt/ml/model\",\n",
      "    \"module_dir\": \"s3://sagemaker-us-east-1-980497197870/pytorch-training-2020-08-21-02-22-54-024/source/sourcedir.tar.gz\",\n",
      "    \"module_name\": \"train\",\n",
      "    \"network_interface_name\": \"eth0\",\n",
      "    \"num_cpus\": 4,\n",
      "    \"num_gpus\": 1,\n",
      "    \"output_data_dir\": \"/opt/ml/output/data\",\n",
      "    \"output_dir\": \"/opt/ml/output\",\n",
      "    \"output_intermediate_dir\": \"/opt/ml/output/intermediate\",\n",
      "    \"resource_config\": {\n",
      "        \"current_host\": \"algo-1\",\n",
      "        \"hosts\": [\n",
      "            \"algo-1\"\n",
      "        ],\n",
      "        \"network_interface_name\": \"eth0\"\n",
      "    },\n",
      "    \"user_entry_point\": \"train.py\"\u001b[0m\n",
      "\u001b[34m}\n",
      "\u001b[0m\n",
      "\u001b[34mEnvironment variables:\n",
      "\u001b[0m\n",
      "\u001b[34mSM_HOSTS=[\"algo-1\"]\u001b[0m\n",
      "\u001b[34mSM_NETWORK_INTERFACE_NAME=eth0\u001b[0m\n",
      "\u001b[34mSM_HPS={\"epochs\":20,\"hidden_dim\":30,\"input_features\":3,\"output_dim\":1}\u001b[0m\n",
      "\u001b[34mSM_USER_ENTRY_POINT=train.py\u001b[0m\n",
      "\u001b[34mSM_FRAMEWORK_PARAMS={}\u001b[0m\n",
      "\u001b[34mSM_RESOURCE_CONFIG={\"current_host\":\"algo-1\",\"hosts\":[\"algo-1\"],\"network_interface_name\":\"eth0\"}\u001b[0m\n",
      "\u001b[34mSM_INPUT_DATA_CONFIG={\"train\":{\"RecordWrapperType\":\"None\",\"S3DistributionType\":\"FullyReplicated\",\"TrainingInputMode\":\"File\"}}\u001b[0m\n",
      "\u001b[34mSM_OUTPUT_DATA_DIR=/opt/ml/output/data\u001b[0m\n",
      "\u001b[34mSM_CHANNELS=[\"train\"]\u001b[0m\n",
      "\u001b[34mSM_CURRENT_HOST=algo-1\u001b[0m\n",
      "\u001b[34mSM_MODULE_NAME=train\u001b[0m\n",
      "\u001b[34mSM_LOG_LEVEL=20\u001b[0m\n",
      "\u001b[34mSM_FRAMEWORK_MODULE=sagemaker_pytorch_container.training:main\u001b[0m\n",
      "\u001b[34mSM_INPUT_DIR=/opt/ml/input\u001b[0m\n",
      "\u001b[34mSM_INPUT_CONFIG_DIR=/opt/ml/input/config\u001b[0m\n",
      "\u001b[34mSM_OUTPUT_DIR=/opt/ml/output\u001b[0m\n",
      "\u001b[34mSM_NUM_CPUS=4\u001b[0m\n",
      "\u001b[34mSM_NUM_GPUS=1\u001b[0m\n",
      "\u001b[34mSM_MODEL_DIR=/opt/ml/model\u001b[0m\n",
      "\u001b[34mSM_MODULE_DIR=s3://sagemaker-us-east-1-980497197870/pytorch-training-2020-08-21-02-22-54-024/source/sourcedir.tar.gz\u001b[0m\n",
      "\u001b[34mSM_TRAINING_ENV={\"additional_framework_parameters\":{},\"channel_input_dirs\":{\"train\":\"/opt/ml/input/data/train\"},\"current_host\":\"algo-1\",\"framework_module\":\"sagemaker_pytorch_container.training:main\",\"hosts\":[\"algo-1\"],\"hyperparameters\":{\"epochs\":20,\"hidden_dim\":30,\"input_features\":3,\"output_dim\":1},\"input_config_dir\":\"/opt/ml/input/config\",\"input_data_config\":{\"train\":{\"RecordWrapperType\":\"None\",\"S3DistributionType\":\"FullyReplicated\",\"TrainingInputMode\":\"File\"}},\"input_dir\":\"/opt/ml/input\",\"is_master\":true,\"job_name\":\"pytorch-training-2020-08-21-02-22-54-024\",\"log_level\":20,\"master_hostname\":\"algo-1\",\"model_dir\":\"/opt/ml/model\",\"module_dir\":\"s3://sagemaker-us-east-1-980497197870/pytorch-training-2020-08-21-02-22-54-024/source/sourcedir.tar.gz\",\"module_name\":\"train\",\"network_interface_name\":\"eth0\",\"num_cpus\":4,\"num_gpus\":1,\"output_data_dir\":\"/opt/ml/output/data\",\"output_dir\":\"/opt/ml/output\",\"output_intermediate_dir\":\"/opt/ml/output/intermediate\",\"resource_config\":{\"current_host\":\"algo-1\",\"hosts\":[\"algo-1\"],\"network_interface_name\":\"eth0\"},\"user_entry_point\":\"train.py\"}\u001b[0m\n",
      "\u001b[34mSM_USER_ARGS=[\"--epochs\",\"20\",\"--hidden_dim\",\"30\",\"--input_features\",\"3\",\"--output_dim\",\"1\"]\u001b[0m\n",
      "\u001b[34mSM_OUTPUT_INTERMEDIATE_DIR=/opt/ml/output/intermediate\u001b[0m\n",
      "\u001b[34mSM_CHANNEL_TRAIN=/opt/ml/input/data/train\u001b[0m\n",
      "\u001b[34mSM_HP_HIDDEN_DIM=30\u001b[0m\n",
      "\u001b[34mSM_HP_INPUT_FEATURES=3\u001b[0m\n",
      "\u001b[34mSM_HP_EPOCHS=20\u001b[0m\n",
      "\u001b[34mSM_HP_OUTPUT_DIM=1\u001b[0m\n",
      "\u001b[34mPYTHONPATH=/opt/ml/code:/opt/conda/bin:/opt/conda/lib/python36.zip:/opt/conda/lib/python3.6:/opt/conda/lib/python3.6/lib-dynload:/opt/conda/lib/python3.6/site-packages\n",
      "\u001b[0m\n",
      "\u001b[34mInvoking script with the following command:\n",
      "\u001b[0m\n",
      "\u001b[34m/opt/conda/bin/python train.py --epochs 20 --hidden_dim 30 --input_features 3 --output_dim 1\n",
      "\n",
      "\u001b[0m\n",
      "\u001b[34mUsing device cuda.\u001b[0m\n",
      "\u001b[34mGet train data loader.\u001b[0m\n",
      "\u001b[34m[2020-08-21 02:28:31.784 algo-1:42 INFO json_config.py:90] Creating hook from json_config at /opt/ml/input/config/debughookconfig.json.\u001b[0m\n",
      "\u001b[34m[2020-08-21 02:28:31.784 algo-1:42 INFO hook.py:183] tensorboard_dir has not been set for the hook. SMDebug will not be exporting tensorboard summaries.\u001b[0m\n",
      "\u001b[34m[2020-08-21 02:28:31.785 algo-1:42 INFO hook.py:228] Saving to /opt/ml/output/tensors\u001b[0m\n",
      "\u001b[34m[2020-08-21 02:28:31.803 algo-1:42 INFO hook.py:364] Monitoring the collections: losses\u001b[0m\n",
      "\u001b[34m[2020-08-21 02:28:31.804 algo-1:42 INFO hook.py:422] Hook is writing from the hook with pid: 42\n",
      "\u001b[0m\n",
      "\u001b[34mEpoch: 1, Loss: 0.6704031995364598\u001b[0m\n",
      "\u001b[34mEpoch: 2, Loss: 0.6680922337940761\u001b[0m\n",
      "\u001b[34mEpoch: 3, Loss: 0.6653750623975482\u001b[0m\n",
      "\u001b[34mEpoch: 4, Loss: 0.6639700531959534\u001b[0m\n",
      "\u001b[34mEpoch: 5, Loss: 0.6630935498646328\u001b[0m\n",
      "\u001b[34mEpoch: 6, Loss: 0.6584195409502301\u001b[0m\n",
      "\u001b[34mEpoch: 7, Loss: 0.6585950595991952\u001b[0m\n",
      "\u001b[34mEpoch: 8, Loss: 0.6584767018045697\u001b[0m\n",
      "\u001b[34mEpoch: 9, Loss: 0.6589973568916321\u001b[0m\n",
      "\u001b[34mEpoch: 10, Loss: 0.6566034385136196\u001b[0m\n",
      "\u001b[34mEpoch: 11, Loss: 0.6606535741261074\u001b[0m\n",
      "\u001b[34mEpoch: 12, Loss: 0.6577934878213065\u001b[0m\n",
      "\u001b[34mEpoch: 13, Loss: 0.6565420286996024\u001b[0m\n",
      "\u001b[34mEpoch: 14, Loss: 0.6529119440487453\u001b[0m\n",
      "\u001b[34mEpoch: 15, Loss: 0.6529397964477539\u001b[0m\n",
      "\u001b[34mEpoch: 16, Loss: 0.6539943984576634\u001b[0m\n",
      "\u001b[34mEpoch: 17, Loss: 0.6570419413702828\u001b[0m\n",
      "\u001b[34mEpoch: 18, Loss: 0.6512572935649327\u001b[0m\n",
      "\u001b[34mEpoch: 19, Loss: 0.6562134623527527\u001b[0m\n",
      "\u001b[34mEpoch: 20, Loss: 0.6491399662835258\u001b[0m\n",
      "\u001b[34m[2020-08-21 02:28:33.072 algo-1:42 INFO utils.py:25] The end of training job file will not be written for jobs running under SageMaker.\u001b[0m\n",
      "\u001b[34m2020-08-21 02:28:33,554 sagemaker-containers INFO     Reporting training SUCCESS\u001b[0m\n"
     ]
    },
    {
     "name": "stdout",
     "output_type": "stream",
     "text": [
      "\n",
      "2020-08-21 02:28:45 Uploading - Uploading generated training model\n",
      "2020-08-21 02:28:45 Completed - Training job completed\n",
      "Training seconds: 164\n",
      "Billable seconds: 164\n",
      "CPU times: user 778 ms, sys: 43.8 ms, total: 821 ms\n",
      "Wall time: 6min 14s\n"
     ]
    }
   ],
   "source": [
    "%%time\n",
    "\n",
    "# Train your estimator on S3 training data\n",
    "model.fit({'train': data_s3})"
   ]
  },
  {
   "cell_type": "markdown",
   "metadata": {},
   "source": [
    "## EXERCISE: Deploy the trained model\n",
    "\n",
    "After training, deploy your model to create a `predictor`. If you're using a PyTorch model, you'll need to create a trained `PyTorchModel` that accepts the trained `<model>.model_data` as an input parameter and points to the provided `source_pytorch/predict.py` file as an entry point. \n",
    "\n",
    "To deploy a trained model, you'll use `<model>.deploy`, which takes in two arguments:\n",
    "* **initial_instance_count**: The number of deployed instances (1).\n",
    "* **instance_type**: The type of SageMaker instance for deployment.\n",
    "\n",
    "Note: If you run into an instance error, it may be because you chose the wrong training or deployment instance_type. It may help to refer to your previous exercise code to see which types of instances we used."
   ]
  },
  {
   "cell_type": "code",
   "execution_count": 51,
   "metadata": {
    "scrolled": false
   },
   "outputs": [
    {
     "name": "stderr",
     "output_type": "stream",
     "text": [
      "Parameter image will be renamed to image_uri in SageMaker Python SDK v2.\n"
     ]
    },
    {
     "name": "stdout",
     "output_type": "stream",
     "text": [
      "-------------------!CPU times: user 344 ms, sys: 6.04 ms, total: 350 ms\n",
      "Wall time: 9min 33s\n"
     ]
    }
   ],
   "source": [
    "%%time\n",
    "\n",
    "# uncomment, if needed\n",
    "# from sagemaker.pytorch import PyTorchModel\n",
    "\n",
    "\n",
    "# deploy your model to create a predictor\n",
    "predictor = model.deploy(initial_instance_count = 1,\n",
    "                         instance_type = 'ml.t2.medium')\n"
   ]
  },
  {
   "cell_type": "code",
   "execution_count": 98,
   "metadata": {
    "scrolled": true
   },
   "outputs": [
    {
     "name": "stderr",
     "output_type": "stream",
     "text": [
      "Parameter image will be renamed to image_uri in SageMaker Python SDK v2.\n",
      "'create_image_uri' will be deprecated in favor of 'ImageURIProvider' class in SageMaker Python SDK v2.\n"
     ]
    },
    {
     "name": "stdout",
     "output_type": "stream",
     "text": [
      "---------------------!"
     ]
    }
   ],
   "source": [
    "## Pytorch\n",
    "predictor = model.deploy(instance_type = 'ml.p2.xlarge',\n",
    "                         initial_instance_count = 1)"
   ]
  },
  {
   "cell_type": "markdown",
   "metadata": {},
   "source": [
    "---\n",
    "# Evaluating Your Model\n",
    "\n",
    "Once your model is deployed, you can see how it performs when applied to our test data.\n",
    "\n",
    "The provided cell below, reads in the test data, assuming it is stored locally in `data_dir` and named `test.csv`. The labels and features are extracted from the `.csv` file."
   ]
  },
  {
   "cell_type": "code",
   "execution_count": 23,
   "metadata": {},
   "outputs": [],
   "source": [
    "\"\"\"\n",
    "DON'T MODIFY ANYTHING IN THIS CELL THAT IS BELOW THIS LINE\n",
    "\"\"\"\n",
    "import os\n",
    "\n",
    "# read in test data, assuming it is stored locally\n",
    "test_data = pd.read_csv(os.path.join(data_dir, \"test.csv\"), header=None, names=None)\n",
    "\n",
    "# labels are in the first column\n",
    "test_y = test_data.iloc[:,0]\n",
    "test_x = test_data.iloc[:,1:]"
   ]
  },
  {
   "cell_type": "markdown",
   "metadata": {},
   "source": [
    "## EXERCISE: Determine the accuracy of your model\n",
    "\n",
    "Use your deployed `predictor` to generate predicted, class labels for the test data. Compare those to the *true* labels, `test_y`, and calculate the accuracy as a value between 0 and 1.0 that indicates the fraction of test data that your model classified correctly. You may use [sklearn.metrics](https://scikit-learn.org/stable/modules/classes.html#module-sklearn.metrics) for this calculation.\n",
    "\n",
    "**To pass this project, your model should get at least 90% test accuracy.**"
   ]
  },
  {
   "cell_type": "code",
   "execution_count": 90,
   "metadata": {},
   "outputs": [],
   "source": [
    "test_x = test_x.astype('float32')"
   ]
  },
  {
   "cell_type": "code",
   "execution_count": 99,
   "metadata": {},
   "outputs": [
    {
     "name": "stdout",
     "output_type": "stream",
     "text": [
      "Test passed!\n"
     ]
    }
   ],
   "source": [
    "# First: generate predicted, class labels\n",
    "test_y_preds = predictor.predict(test_x)\n",
    "\n",
    "\n",
    "\"\"\"\n",
    "DON'T MODIFY ANYTHING IN THIS CELL THAT IS BELOW THIS LINE\n",
    "\"\"\"\n",
    "# test that your model generates the correct number of labels\n",
    "assert len(test_y_preds)==len(test_y), 'Unexpected number of predictions.'\n",
    "print('Test passed!')"
   ]
  },
  {
   "cell_type": "code",
   "execution_count": 92,
   "metadata": {},
   "outputs": [],
   "source": [
    "import numpy as np\n",
    "def output_pytorch(preds):\n",
    "    nor_preds = []\n",
    "    nor_preds.append([1 if float(x) >= 0.5 else 0 for x in preds])\n",
    "    np_preds = np.squeeze(np.array(nor_preds))\n",
    "    return pd.Series(np_preds)"
   ]
  },
  {
   "cell_type": "code",
   "execution_count": 100,
   "metadata": {},
   "outputs": [],
   "source": [
    "preds_pytorch = output_pytorch(test_y_preds)"
   ]
  },
  {
   "cell_type": "code",
   "execution_count": 79,
   "metadata": {},
   "outputs": [
    {
     "data": {
      "text/plain": [
       "(0     0\n",
       " 1     0\n",
       " 2     0\n",
       " 3     0\n",
       " 4     0\n",
       " 5     1\n",
       " 6     0\n",
       " 7     0\n",
       " 8     0\n",
       " 9     0\n",
       " 10    0\n",
       " 11    0\n",
       " 12    0\n",
       " 13    1\n",
       " 14    1\n",
       " 15    0\n",
       " 16    0\n",
       " 17    1\n",
       " 18    0\n",
       " 19    0\n",
       " 20    0\n",
       " 21    1\n",
       " 22    1\n",
       " 23    0\n",
       " 24    0\n",
       " dtype: int64,\n",
       " pandas.core.series.Series)"
      ]
     },
     "execution_count": 79,
     "metadata": {},
     "output_type": "execute_result"
    }
   ],
   "source": [
    "preds_pytorch, type(preds_pytorch)"
   ]
  },
  {
   "cell_type": "code",
   "execution_count": 80,
   "metadata": {},
   "outputs": [
    {
     "data": {
      "text/plain": [
       "((25,), (25,))"
      ]
     },
     "execution_count": 80,
     "metadata": {},
     "output_type": "execute_result"
    }
   ],
   "source": [
    "preds_pytorch.shape, test_y.shape"
   ]
  },
  {
   "cell_type": "code",
   "execution_count": 44,
   "metadata": {},
   "outputs": [
    {
     "data": {
      "text/plain": [
       "(array([[0.49453649],\n",
       "        [0.48884332],\n",
       "        [0.48701373],\n",
       "        [0.4820444 ],\n",
       "        [0.4961589 ],\n",
       "        [0.50274873],\n",
       "        [0.48184648],\n",
       "        [0.4710857 ],\n",
       "        [0.47282401],\n",
       "        [0.47515076],\n",
       "        [0.47346422],\n",
       "        [0.47582778],\n",
       "        [0.47718614],\n",
       "        [0.50347453],\n",
       "        [0.50332206],\n",
       "        [0.48278552],\n",
       "        [0.48812303],\n",
       "        [0.50234622],\n",
       "        [0.47174525],\n",
       "        [0.49651343],\n",
       "        [0.47467998],\n",
       "        [0.50100708],\n",
       "        [0.50202954],\n",
       "        [0.47097799],\n",
       "        [0.47344574]]),\n",
       " numpy.ndarray)"
      ]
     },
     "execution_count": 44,
     "metadata": {},
     "output_type": "execute_result"
    }
   ],
   "source": [
    "test_y_preds, type(test_y_preds)"
   ]
  },
  {
   "cell_type": "code",
   "execution_count": 46,
   "metadata": {},
   "outputs": [
    {
     "data": {
      "text/plain": [
       "(0     1\n",
       " 1     1\n",
       " 2     1\n",
       " 3     1\n",
       " 4     1\n",
       " 5     1\n",
       " 6     0\n",
       " 7     0\n",
       " 8     0\n",
       " 9     0\n",
       " 10    0\n",
       " 11    0\n",
       " 12    1\n",
       " 13    1\n",
       " 14    1\n",
       " 15    1\n",
       " 16    1\n",
       " 17    1\n",
       " 18    0\n",
       " 19    1\n",
       " 20    0\n",
       " 21    1\n",
       " 22    1\n",
       " 23    0\n",
       " 24    0\n",
       " Name: 0, dtype: int64,\n",
       " pandas.core.series.Series)"
      ]
     },
     "execution_count": 46,
     "metadata": {},
     "output_type": "execute_result"
    }
   ],
   "source": [
    "test_y, type(test_y)"
   ]
  },
  {
   "cell_type": "code",
   "execution_count": 47,
   "metadata": {},
   "outputs": [
    {
     "name": "stdout",
     "output_type": "stream",
     "text": [
      "0.96\n",
      "\n",
      "Predicted class labels: \n",
      "[1 1 1 1 1 1 0 0 0 0 0 0 0 1 1 1 1 1 0 1 0 1 1 0 0]\n",
      "\n",
      "True class labels: \n",
      "[1 1 1 1 1 1 0 0 0 0 0 0 1 1 1 1 1 1 0 1 0 1 1 0 0]\n"
     ]
    }
   ],
   "source": [
    "# NNeighborsClassifer n = 5\n",
    "from sklearn.metrics import accuracy_score\n",
    "# Second: calculate the test accuracy\n",
    "accuracy = accuracy_score(test_y, test_y_preds)\n",
    "\n",
    "print(accuracy)\n",
    "\n",
    "\n",
    "## print out the array of predicted and true labels, if you want\n",
    "print('\\nPredicted class labels: ')\n",
    "print(test_y_preds)\n",
    "print('\\nTrue class labels: ')\n",
    "print(test_y.values)"
   ]
  },
  {
   "cell_type": "code",
   "execution_count": 53,
   "metadata": {},
   "outputs": [
    {
     "name": "stdout",
     "output_type": "stream",
     "text": [
      "0.96\n",
      "\n",
      "Predicted class labels: \n",
      "[1 1 1 1 1 1 0 0 0 0 0 0 0 1 1 1 1 1 0 1 0 1 1 0 0]\n",
      "\n",
      "True class labels: \n",
      "[1 1 1 1 1 1 0 0 0 0 0 0 1 1 1 1 1 1 0 1 0 1 1 0 0]\n"
     ]
    }
   ],
   "source": [
    "# NNeighborsClassifer n = 3\n",
    "from sklearn.metrics import accuracy_score\n",
    "# Second: calculate the test accuracy\n",
    "accuracy = accuracy_score(test_y, test_y_preds)\n",
    "\n",
    "print(accuracy)\n",
    "\n",
    "\n",
    "## print out the array of predicted and true labels, if you want\n",
    "print('\\nPredicted class labels: ')\n",
    "print(test_y_preds)\n",
    "print('\\nTrue class labels: ')\n",
    "print(test_y.values)"
   ]
  },
  {
   "cell_type": "code",
   "execution_count": 85,
   "metadata": {},
   "outputs": [
    {
     "name": "stdout",
     "output_type": "stream",
     "text": [
      "0.64\n",
      "\n",
      "Predicted class labels: \n",
      "[0 0 0 0 0 1 0 0 0 0 0 0 0 1 1 0 0 1 0 0 0 1 1 0 0]\n",
      "\n",
      "True class labels: \n",
      "[1 1 1 1 1 1 0 0 0 0 0 0 1 1 1 1 1 1 0 1 0 1 1 0 0]\n"
     ]
    }
   ],
   "source": [
    "# PyTorch epochs = 10\n",
    "from sklearn.metrics import accuracy_score\n",
    "# Second: calculate the test accuracy\n",
    "accuracy = accuracy_score(test_y, preds_pytorch)\n",
    "\n",
    "print(accuracy)\n",
    "\n",
    "\n",
    "## print out the array of predicted and true labels, if you want\n",
    "print('\\nPredicted class labels: ')\n",
    "print(preds_pytorch.values)\n",
    "print('\\nTrue class labels: ')\n",
    "print(test_y.values)"
   ]
  },
  {
   "cell_type": "code",
   "execution_count": 93,
   "metadata": {},
   "outputs": [
    {
     "name": "stdout",
     "output_type": "stream",
     "text": [
      "0.64\n",
      "\n",
      "Predicted class labels: \n",
      "[0 0 0 0 0 1 0 0 0 0 0 0 0 1 1 0 0 1 0 0 0 1 1 0 0]\n",
      "\n",
      "True class labels: \n",
      "[1 1 1 1 1 1 0 0 0 0 0 0 1 1 1 1 1 1 0 1 0 1 1 0 0]\n"
     ]
    }
   ],
   "source": [
    "# PyTorch epochs = 20\n",
    "from sklearn.metrics import accuracy_score\n",
    "# Second: calculate the test accuracy\n",
    "accuracy = accuracy_score(test_y, preds_pytorch)\n",
    "\n",
    "print(accuracy)\n",
    "\n",
    "\n",
    "## print out the array of predicted and true labels, if you want\n",
    "print('\\nPredicted class labels: ')\n",
    "print(preds_pytorch.values)\n",
    "print('\\nTrue class labels: ')\n",
    "print(test_y.values)"
   ]
  },
  {
   "cell_type": "code",
   "execution_count": 101,
   "metadata": {},
   "outputs": [
    {
     "name": "stdout",
     "output_type": "stream",
     "text": [
      "0.6\n",
      "\n",
      "Predicted class labels: \n",
      "[1 1 1 1 1 1 1 1 1 1 1 1 1 1 1 1 1 1 1 1 1 1 1 1 1]\n",
      "\n",
      "True class labels: \n",
      "[1 1 1 1 1 1 0 0 0 0 0 0 1 1 1 1 1 1 0 1 0 1 1 0 0]\n"
     ]
    }
   ],
   "source": [
    "# PyTorch epochs = 20, hidden_dim = 30\n",
    "from sklearn.metrics import accuracy_score\n",
    "# Second: calculate the test accuracy\n",
    "accuracy = accuracy_score(test_y, preds_pytorch)\n",
    "\n",
    "print(accuracy)\n",
    "\n",
    "\n",
    "## print out the array of predicted and true labels, if you want\n",
    "print('\\nPredicted class labels: ')\n",
    "print(preds_pytorch.values)\n",
    "print('\\nTrue class labels: ')\n",
    "print(test_y.values)"
   ]
  },
  {
   "cell_type": "markdown",
   "metadata": {},
   "source": [
    "### Question 1: How many false positives and false negatives did your model produce, if any? And why do you think this is?"
   ]
  },
  {
   "cell_type": "markdown",
   "metadata": {},
   "source": [
    "** Answer**: \n",
    "For Scikit-learn model, I got 0 false positives and 1 false negatives. For Pytorch model, I got 10 false positives and 0 false negatives in PyTorch model with hidden_dim equals to 30. And I got 0 false positives and 9 negatives in PyTorch model with hidden_dim to 10. I think the reasons for two PyTorch models are overfitting in the first model and didn't learn well in the second model."
   ]
  },
  {
   "cell_type": "markdown",
   "metadata": {},
   "source": [
    "### Question 2: How did you decide on the type of model to use? "
   ]
  },
  {
   "cell_type": "markdown",
   "metadata": {},
   "source": [
    "** Answer**:\n",
    "\n",
    "Because we got so small training data set, I think that is the most important impact for PyTorch model. Neural network could work well when we have a large data set. However, things go very well in scikit-learn's n neighbors classifer which performance higher than 95%. Therefore, I choose scikit-learn model to use. "
   ]
  },
  {
   "cell_type": "markdown",
   "metadata": {},
   "source": [
    "----\n",
    "## EXERCISE: Clean up Resources\n",
    "\n",
    "After you're done evaluating your model, **delete your model endpoint**. You can do this with a call to `.delete_endpoint()`. You need to show, in this notebook, that the endpoint was deleted. Any other resources, you may delete from the AWS console, and you will find more instructions on cleaning up all your resources, below."
   ]
  },
  {
   "cell_type": "code",
   "execution_count": 102,
   "metadata": {},
   "outputs": [],
   "source": [
    "# uncomment and fill in the line below!\n",
    "# <name_of_deployed_predictor>.delete_endpoint()\n",
    "predictor.delete_endpoint()"
   ]
  },
  {
   "cell_type": "markdown",
   "metadata": {},
   "source": [
    "### Deleting S3 bucket\n",
    "\n",
    "When you are *completely* done with training and testing models, you can also delete your entire S3 bucket. If you do this before you are done training your model, you'll have to recreate your S3 bucket and upload your training data again."
   ]
  },
  {
   "cell_type": "code",
   "execution_count": 104,
   "metadata": {},
   "outputs": [
    {
     "data": {
      "text/plain": [
       "[{'ResponseMetadata': {'RequestId': '599CED9ADC9A7560',\n",
       "   'HostId': '+/y8bRaa4Vt6mEyy6fl1NU6xbnQkdi5e+G1xqpvQZuzmS3CvRqU3UtDLd4wonNNcZ1Zb+AA9QA8=',\n",
       "   'HTTPStatusCode': 200,\n",
       "   'HTTPHeaders': {'x-amz-id-2': '+/y8bRaa4Vt6mEyy6fl1NU6xbnQkdi5e+G1xqpvQZuzmS3CvRqU3UtDLd4wonNNcZ1Zb+AA9QA8=',\n",
       "    'x-amz-request-id': '599CED9ADC9A7560',\n",
       "    'date': 'Fri, 21 Aug 2020 03:36:47 GMT',\n",
       "    'connection': 'close',\n",
       "    'content-type': 'application/xml',\n",
       "    'transfer-encoding': 'chunked',\n",
       "    'server': 'AmazonS3'},\n",
       "   'RetryAttempts': 0},\n",
       "  'Deleted': [{'Key': 'sagemaker/moon-data/sagemaker-pytorch-2020-08-09-02-01-08-136/output/model.tar.gz'},\n",
       "   {'Key': 'pytorch-training-2020-08-20-22-28-04-373/debug-output/index/000000000/000000000000_worker_0.json'},\n",
       "   {'Key': 'sagemaker-scikit-learn-2020-08-19-06-43-31-360/source/sourcedir.tar.gz'},\n",
       "   {'Key': 'counties/pca-2020-08-03-21-33-27-579/output/model.tar.gz'},\n",
       "   {'Key': 'pytorch-training-2020-08-20-22-28-04-373/debug-output/claim.smd'},\n",
       "   {'Key': 'sagemaker-pytorch-2020-07-26-17-13-57-060/source/sourcedir.tar.gz'},\n",
       "   {'Key': 'sagemaker-scikit-learn-2020-08-19-06-16-01-601/source/sourcedir.tar.gz'},\n",
       "   {'Key': 'sagemaker-pytorch-2020-07-27-22-37-50-127/sourcedir.tar.gz'},\n",
       "   {'Key': 'sagemaker-pytorch-2020-07-27-23-17-50-671/output/model.tar.gz'},\n",
       "   {'Key': 'sagemaker-scikit-learn-2020-08-20-03-33-34-885/source/sourcedir.tar.gz'},\n",
       "   {'Key': 'sagemaker-record-sets/LinearLearner-2020-08-07-19-14-09-799/.amazon.manifest'},\n",
       "   {'Key': 'sagemaker-pytorch-2020-07-27-23-04-42-491/output/model.tar.gz'},\n",
       "   {'Key': 'sagemaker-pytorch-2020-08-20-04-42-01-855/source/sourcedir.tar.gz'},\n",
       "   {'Key': 'sagemaker-record-sets/PCA-2020-08-05-02-18-43-188/.amazon.manifest'},\n",
       "   {'Key': 'sagemaker-pytorch-2020-08-09-02-01-08-136/source/sourcedir.tar.gz'},\n",
       "   {'Key': 'counties/kmeans-2020-08-05-03-06-32-814/output/model.tar.gz'},\n",
       "   {'Key': 'sagemaker-pytorch-2020-07-27-21-46-05-222/sourcedir.tar.gz'},\n",
       "   {'Key': 'sagemaker-pytorch-2020-07-26-17-13-57-060/debug-output/training_job_end.ts'},\n",
       "   {'Key': 'sagemaker-pytorch-2020-07-27-03-18-17-770/output/model.tar.gz'},\n",
       "   {'Key': 'pytorch-training-2020-08-20-18-32-23-325/debug-output/collections/000000000/worker_0_collections.json'},\n",
       "   {'Key': 'fraud/linear-learner-2020-08-07-19-19-53-391/output/model.tar.gz'},\n",
       "   {'Key': 'sagemaker-pytorch-2020-07-26-12-56-39-969/debug-output/training_job_end.ts'},\n",
       "   {'Key': 'counties/pca-2020-08-05-16-00-42-002/output/model.tar.gz'},\n",
       "   {'Key': 'sagemaker-scikit-learn-2020-08-19-06-09-41-439/source/sourcedir.tar.gz'},\n",
       "   {'Key': 'pytorch-training-2020-08-20-18-16-17-423/debug-output/events/000000000000/000000000000_worker_0.tfevents'},\n",
       "   {'Key': 'sagemaker-pytorch-2020-08-09-01-56-28-533/source/sourcedir.tar.gz'},\n",
       "   {'Key': 'pytorch-training-2020-08-20-18-16-17-423/source/sourcedir.tar.gz'},\n",
       "   {'Key': 'pytorch-training-2020-08-20-22-28-04-373/debug-output/collections/000000000/worker_0_collections.json'},\n",
       "   {'Key': 'sagemaker-pytorch-2020-07-26-15-57-57-603/source/sourcedir.tar.gz'},\n",
       "   {'Key': 'sagemaker-pytorch-2020-08-09-01-43-58-183/source/sourcedir.tar.gz'},\n",
       "   {'Key': 'sagemaker-pytorch-2020-07-28-01-09-18-852/sourcedir.tar.gz'},\n",
       "   {'Key': 'sagemaker/backup/test.csv'},\n",
       "   {'Key': 'pytorch-training-2020-08-20-21-44-57-571/source/sourcedir.tar.gz'},\n",
       "   {'Key': 'sagemaker-pytorch-2020-07-28-00-57-38-599/sourcedir.tar.gz'},\n",
       "   {'Key': 'sagemaker-pytorch-2020-08-09-01-23-40-095/source/sourcedir.tar.gz'},\n",
       "   {'Key': 'pytorch-training-2020-08-20-06-05-49-914/debug-output/collections/000000000/worker_0_collections.json'},\n",
       "   {'Key': 'sagemaker-pytorch-2020-07-28-03-24-35-252/source/sourcedir.tar.gz'},\n",
       "   {'Key': 'sagemaker-scikit-learn-2020-08-20-03-33-34-885/debug-output/training_job_end.ts'},\n",
       "   {'Key': 'fraud/linear-learner-2020-08-07-20-15-50-554/output/model.tar.gz'},\n",
       "   {'Key': 'sagemaker-pytorch-2020-07-27-04-13-27-827/output/model.tar.gz'},\n",
       "   {'Key': 'pytorch-training-2020-08-21-02-22-54-024/model.tar.gz'},\n",
       "   {'Key': 'sagemaker-record-sets/LinearLearner-2020-08-07-19-19-46-470/.amazon.manifest'},\n",
       "   {'Key': 'pytorch-training-2020-08-20-21-44-57-571/debug-output/training_job_end.ts'},\n",
       "   {'Key': 'sagemaker-scikit-learn-2020-08-19-06-53-37-080/source/sourcedir.tar.gz'},\n",
       "   {'Key': 'fraud/linear-learner-2020-08-07-21-00-56-729/output/model.tar.gz'},\n",
       "   {'Key': 'pytorch-training-2020-08-20-06-05-49-914/debug-output/events/000000000000/000000000000_worker_0.tfevents'},\n",
       "   {'Key': 'pytorch-training-2020-08-20-18-16-17-423/debug-output/collections/000000000/worker_0_collections.json'},\n",
       "   {'Key': 'pytorch-training-2020-08-20-21-44-57-571/debug-output/index/000000000/000000000000_worker_0.json'},\n",
       "   {'Key': 'energy_consumption/train/train.json'},\n",
       "   {'Key': 'pytorch-training-2020-08-20-18-32-23-325/debug-output/events/000000000000/000000000000_worker_0.tfevents'},\n",
       "   {'Key': 'sagemaker-scikit-learn-2020-08-19-06-03-11-682/source/sourcedir.tar.gz'},\n",
       "   {'Key': 'pytorch-training-2020-08-20-18-32-23-325/debug-output/training_job_end.ts'},\n",
       "   {'Key': 'sagemaker-scikit-learn-2020-08-20-03-33-34-885/output/model.tar.gz'},\n",
       "   {'Key': 'counties/kmeans-2020-08-05-19-42-17-609/output/model.tar.gz'},\n",
       "   {'Key': 'fraud/linear-learner-2020-08-07-19-51-40-003/output/model.tar.gz'},\n",
       "   {'Key': 'sagemaker-scikit-learn-2020-08-19-06-58-13-928/source/sourcedir.tar.gz'},\n",
       "   {'Key': 'sagemaker-pytorch-2020-07-26-16-46-42-718/source/sourcedir.tar.gz'},\n",
       "   {'Key': 'sagemaker-pytorch-2020-07-27-04-13-27-827/source/sourcedir.tar.gz'},\n",
       "   {'Key': 'pytorch-training-2020-08-20-18-32-23-325/model.tar.gz'},\n",
       "   {'Key': 'pytorch-training-2020-08-20-18-32-23-325/source/sourcedir.tar.gz'},\n",
       "   {'Key': 'pytorch-training-2020-08-20-18-32-23-325/output/model.tar.gz'},\n",
       "   {'Key': 'pytorch-training-2020-08-21-02-22-54-024/debug-output/claim.smd'},\n",
       "   {'Key': 'sagemaker-record-sets/PCA-2020-08-05-16-00-40-148/matrix_0.pbr'},\n",
       "   {'Key': 'sagemaker-pytorch-2020-07-27-05-00-04-303/sourcedir.tar.gz'},\n",
       "   {'Key': 'sagemaker/sentiment_rnn/word_dict.pkl'},\n",
       "   {'Key': 'fraud/linear-learner-2020-08-07-20-35-34-354/output/model.tar.gz'},\n",
       "   {'Key': 'sagemaker-scikit-learn-2020-08-19-06-23-38-358/source/sourcedir.tar.gz'},\n",
       "   {'Key': 'sagemaker-pytorch-2020-07-27-03-25-26-292/sourcedir.tar.gz'},\n",
       "   {'Key': 'sagemaker-scikit-learn-2020-08-19-06-35-49-616/source/sourcedir.tar.gz'},\n",
       "   {'Key': 'sagemaker-pytorch-2020-07-26-15-57-57-603/debug-output/training_job_end.ts'},\n",
       "   {'Key': 'sagemaker-pytorch-2020-07-27-23-17-50-671/debug-output/training_job_end.ts'},\n",
       "   {'Key': 'sagemaker-pytorch-2020-07-27-03-18-17-770/source/sourcedir.tar.gz'},\n",
       "   {'Key': 'sagemaker-pytorch-2020-07-26-16-46-42-718/debug-output/training_job_end.ts'},\n",
       "   {'Key': 'sagemaker-record-sets/KMeans-2020-08-05-18-36-29-872/.amazon.manifest'},\n",
       "   {'Key': 'pytorch-training-2020-08-21-02-22-54-024/source/sourcedir.tar.gz'},\n",
       "   {'Key': 'sagemaker-pytorch-2020-07-27-03-18-17-770/debug-output/training_job_end.ts'},\n",
       "   {'Key': 'sagemaker-record-sets/PCA-2020-08-03-21-33-22-590/.amazon.manifest'},\n",
       "   {'Key': 'sagemaker-scikit-learn-2020-08-20-02-23-57-553/source/sourcedir.tar.gz'},\n",
       "   {'Key': 'pytorch-training-2020-08-20-18-32-23-325/debug-output/index/000000000/000000000000_worker_0.json'},\n",
       "   {'Key': 'sagemaker-pytorch-2020-07-28-04-18-31-982/sourcedir.tar.gz'},\n",
       "   {'Key': 'sagemaker/moon-data/sagemaker-pytorch-2020-08-09-01-49-16-692/output/model.tar.gz'},\n",
       "   {'Key': 'pytorch-training-2020-08-20-21-44-57-571/debug-output/events/000000000000/000000000000_worker_0.tfevents'},\n",
       "   {'Key': 'sagemaker-pytorch-2020-07-26-12-56-39-969/output/model.tar.gz'},\n",
       "   {'Key': 'sagemaker/sentiment_rnn/train.csv'},\n",
       "   {'Key': 'sagemaker-pytorch-2020-07-28-00-22-06-812/sourcedir.tar.gz'},\n",
       "   {'Key': 'sagemaker-record-sets/LinearLearner-2020-08-07-19-05-45-852/matrix_0.pbr'},\n",
       "   {'Key': 'pytorch-training-2020-08-21-02-22-54-024/debug-output/index/000000000/000000000000_worker_0.json'},\n",
       "   {'Key': 'sagemaker-record-sets/LinearLearner-2020-08-07-19-05-45-852/.amazon.manifest'},\n",
       "   {'Key': 'sagemaker-record-sets/PCA-2020-08-05-02-18-43-188/matrix_0.pbr'},\n",
       "   {'Key': 'sagemaker/moon-data/sagemaker-pytorch-2020-08-09-01-43-58-183/output/model.tar.gz'},\n",
       "   {'Key': 'pytorch-training-2020-08-20-06-05-49-914/debug-output/claim.smd'},\n",
       "   {'Key': 'sagemaker-record-sets/PCA-2020-08-05-16-00-40-148/.amazon.manifest'},\n",
       "   {'Key': 'sagemaker-pytorch-2020-07-28-00-18-09-225/sourcedir.tar.gz'},\n",
       "   {'Key': 'pytorch-training-2020-08-20-22-28-04-373/source/sourcedir.tar.gz'},\n",
       "   {'Key': 'pytorch-training-2020-08-20-05-44-17-210/source/sourcedir.tar.gz'},\n",
       "   {'Key': 'sagemaker-pytorch-2020-08-09-01-28-24-142/source/sourcedir.tar.gz'},\n",
       "   {'Key': 'plagiarism_analysis/train.csv'},\n",
       "   {'Key': 'sagemaker-pytorch-2020-07-28-03-24-35-252/output/model.tar.gz'},\n",
       "   {'Key': 'sagemaker-pytorch-2020-07-27-23-17-50-671/source/sourcedir.tar.gz'},\n",
       "   {'Key': 'sagemaker-pytorch-2020-08-09-01-21-11-719/source/sourcedir.tar.gz'},\n",
       "   {'Key': 'pytorch-training-2020-08-21-02-22-54-024/debug-output/events/000000000000/000000000000_worker_0.tfevents'},\n",
       "   {'Key': 'sagemaker-pytorch-2020-07-27-23-04-42-491/source/sourcedir.tar.gz'},\n",
       "   {'Key': 'sagemaker-record-sets/PCA-2020-08-03-21-33-22-590/matrix_0.pbr'},\n",
       "   {'Key': 'counties/pca-2020-08-05-02-18-45-709/output/model.tar.gz'},\n",
       "   {'Key': 'sagemaker-pytorch-2020-07-28-00-42-31-145/sourcedir.tar.gz'},\n",
       "   {'Key': 'sagemaker-pytorch-2020-07-26-12-56-39-969/source/sourcedir.tar.gz'},\n",
       "   {'Key': 'sagemaker-pytorch-2020-07-26-17-13-57-060/output/model.tar.gz'},\n",
       "   {'Key': 'energy_consumption/output/energy-08-14-20-01-2020-08-14-23-24-51-796/output/model.tar.gz'},\n",
       "   {'Key': 'sagemaker-pytorch-2020-07-26-15-57-57-603/output/model.tar.gz'},\n",
       "   {'Key': 'sagemaker-record-sets/LinearLearner-2020-08-07-19-14-09-799/matrix_0.pbr'},\n",
       "   {'Key': 'pytorch-training-2020-08-20-18-32-23-325/debug-output/claim.smd'},\n",
       "   {'Key': 'sagemaker-pytorch-2020-07-27-03-40-06-987/sourcedir.tar.gz'},\n",
       "   {'Key': 'sagemaker-record-sets/KMeans-2020-08-05-03-06-13-502/.amazon.manifest'},\n",
       "   {'Key': 'pytorch-training-2020-08-21-02-22-54-024/debug-output/training_job_end.ts'},\n",
       "   {'Key': 'sagemaker/moon-data/sagemaker-pytorch-2020-08-09-02-01-08-136/debug-output/training_job_end.ts'},\n",
       "   {'Key': 'pytorch-training-2020-08-21-02-22-54-024/output/model.tar.gz'},\n",
       "   {'Key': 'sagemaker-pytorch-2020-08-20-05-05-06-891/source/sourcedir.tar.gz'},\n",
       "   {'Key': 'sagemaker-pytorch-2020-07-26-16-46-42-718/output/model.tar.gz'},\n",
       "   {'Key': 'sagemaker-pytorch-2020-07-28-01-32-03-967/sourcedir.tar.gz'},\n",
       "   {'Key': 'sagemaker-pytorch-2020-08-09-01-38-28-995/source/sourcedir.tar.gz'},\n",
       "   {'Key': 'pytorch-training-2020-08-20-05-51-06-143/source/sourcedir.tar.gz'},\n",
       "   {'Key': 'sagemaker/moon-data/sagemaker-pytorch-2020-08-09-01-56-28-533/output/model.tar.gz'},\n",
       "   {'Key': 'sagemaker-pytorch-2020-08-09-01-19-43-881/source/sourcedir.tar.gz'},\n",
       "   {'Key': 'sagemaker-pytorch-2020-08-20-04-54-53-502/source/sourcedir.tar.gz'},\n",
       "   {'Key': 'pytorch-training-2020-08-21-02-22-54-024/debug-output/collections/000000000/worker_0_collections.json'},\n",
       "   {'Key': 'sagemaker-pytorch-2020-07-27-04-31-35-567/sourcedir.tar.gz'},\n",
       "   {'Key': 'sagemaker-scikit-learn-2020-08-20-02-23-57-553/debug-output/training_job_end.ts'},\n",
       "   {'Key': 'sagemaker-scikit-learn-2020-08-20-02-23-57-553/output/model.tar.gz'},\n",
       "   {'Key': 'sagemaker-pytorch-2020-07-28-03-44-19-495/sourcedir.tar.gz'},\n",
       "   {'Key': 'sagemaker/moon-data/.ipynb_checkpoints/train-checkpoint.csv'},\n",
       "   {'Key': 'pytorch-training-2020-08-20-05-37-26-588/source/sourcedir.tar.gz'},\n",
       "   {'Key': 'sagemaker-pytorch-2020-07-27-03-50-10-718/sourcedir.tar.gz'},\n",
       "   {'Key': 'sagemaker-pytorch-2020-07-28-03-24-35-252/debug-output/training_job_end.ts'},\n",
       "   {'Key': 'sagemaker-pytorch-2020-08-20-04-36-29-734/source/sourcedir.tar.gz'},\n",
       "   {'Key': 'pytorch-training-2020-08-20-21-44-57-571/output/model.tar.gz'},\n",
       "   {'Key': 'sagemaker-pytorch-2020-07-28-00-04-07-362/sourcedir.tar.gz'},\n",
       "   {'Key': 'sagemaker-pytorch-2020-07-27-04-13-27-827/debug-output/training_job_end.ts'},\n",
       "   {'Key': 'plagiarism_analysis/test.csv'},\n",
       "   {'Key': 'sagemaker-pytorch-2020-08-09-01-49-16-692/source/sourcedir.tar.gz'},\n",
       "   {'Key': 'pytorch-training-2020-08-20-21-44-57-571/model.tar.gz'},\n",
       "   {'Key': 'pytorch-training-2020-08-20-21-44-57-571/debug-output/collections/000000000/worker_0_collections.json'},\n",
       "   {'Key': 'pytorch-training-2020-08-20-22-28-04-373/debug-output/training_job_end.ts'},\n",
       "   {'Key': 'sagemaker-scikit-learn-2020-08-19-06-27-42-741/source/sourcedir.tar.gz'},\n",
       "   {'Key': 'sagemaker-scikit-learn-2020-08-19-06-48-10-886/source/sourcedir.tar.gz'},\n",
       "   {'Key': 'sagemaker/moon-data/train.csv'},\n",
       "   {'Key': 'pytorch-training-2020-08-20-21-44-57-571/debug-output/claim.smd'},\n",
       "   {'Key': 'energy_consumption/test/test.json'},\n",
       "   {'Key': 'sagemaker-pytorch-2020-08-09-02-11-31-651/sourcedir.tar.gz'},\n",
       "   {'Key': 'sagemaker-record-sets/LinearLearner-2020-08-07-19-19-46-470/matrix_0.pbr'},\n",
       "   {'Key': 'sagemaker-pytorch-2020-07-28-04-33-10-104/sourcedir.tar.gz'},\n",
       "   {'Key': 'sagemaker-pytorch-2020-07-28-05-17-33-809/sourcedir.tar.gz'},\n",
       "   {'Key': 'sagemaker-record-sets/KMeans-2020-08-05-03-06-13-502/matrix_0.pbr'},\n",
       "   {'Key': 'pytorch-training-2020-08-20-06-05-49-914/source/sourcedir.tar.gz'},\n",
       "   {'Key': 'pytorch-training-2020-08-20-22-28-04-373/output/model.tar.gz'},\n",
       "   {'Key': 'pytorch-training-2020-08-20-22-28-04-373/debug-output/events/000000000000/000000000000_worker_0.tfevents'},\n",
       "   {'Key': 'sagemaker-record-sets/KMeans-2020-08-05-18-36-29-872/matrix_0.pbr'},\n",
       "   {'Key': 'pytorch-training-2020-08-20-05-57-51-533/source/sourcedir.tar.gz'},\n",
       "   {'Key': 'sagemaker-pytorch-2020-07-27-22-45-42-366/sourcedir.tar.gz'},\n",
       "   {'Key': 'sagemaker-pytorch-2020-07-27-23-04-42-491/debug-output/training_job_end.ts'}]}]"
      ]
     },
     "execution_count": 104,
     "metadata": {},
     "output_type": "execute_result"
    }
   ],
   "source": [
    "# deleting bucket, uncomment lines below\n",
    "\n",
    "bucket_to_delete = boto3.resource('s3').Bucket(bucket)\n",
    "bucket_to_delete.objects.all().delete()"
   ]
  },
  {
   "cell_type": "markdown",
   "metadata": {},
   "source": [
    "### Deleting all your models and instances\n",
    "\n",
    "When you are _completely_ done with this project and do **not** ever want to revisit this notebook, you can choose to delete all of your SageMaker notebook instances and models by following [these instructions](https://docs.aws.amazon.com/sagemaker/latest/dg/ex1-cleanup.html). Before you delete this notebook instance, I recommend at least downloading a copy and saving it, locally."
   ]
  },
  {
   "cell_type": "markdown",
   "metadata": {},
   "source": [
    "---\n",
    "## Further Directions\n",
    "\n",
    "There are many ways to improve or add on to this project to expand your learning or make this more of a unique project for you. A few ideas are listed below:\n",
    "* Train a classifier to predict the *category* (1-3) of plagiarism and not just plagiarized (1) or not (0).\n",
    "* Utilize a different and larger dataset to see if this model can be extended to other types of plagiarism.\n",
    "* Use language or character-level analysis to find different (and more) similarity features.\n",
    "* Write a complete pipeline function that accepts a source text and submitted text file, and classifies the submitted text as plagiarized or not.\n",
    "* Use API Gateway and a lambda function to deploy your model to a web application.\n",
    "\n",
    "These are all just options for extending your work. If you've completed all the exercises in this notebook, you've completed a real-world application, and can proceed to submit your project. Great job!"
   ]
  }
 ],
 "metadata": {
  "kernelspec": {
   "display_name": "conda_pytorch_latest_p36",
   "language": "python",
   "name": "conda_pytorch_latest_p36"
  },
  "language_info": {
   "codemirror_mode": {
    "name": "ipython",
    "version": 3
   },
   "file_extension": ".py",
   "mimetype": "text/x-python",
   "name": "python",
   "nbconvert_exporter": "python",
   "pygments_lexer": "ipython3",
   "version": "3.6.10"
  }
 },
 "nbformat": 4,
 "nbformat_minor": 2
}
